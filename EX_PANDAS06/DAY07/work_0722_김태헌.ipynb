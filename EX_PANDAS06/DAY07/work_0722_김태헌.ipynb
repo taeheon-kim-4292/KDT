{
 "cells": [
  {
   "cell_type": "markdown",
   "metadata": {},
   "source": [
    "#### [과제]\n",
    "\n",
    "-[1] 타이타닉\n",
    "\n",
    " -> 생존자 중 성별 비율 시각화\n",
    "\n",
    " -> 생존자 나이별 성별 비율 비교 시각화 (10대 남/녀 , 20대 남/녀) -> 하나의 Figure에 모두 표시\n",
    "\n",
    "\n",
    "-[2] 시도별 전출입 인구수 \n",
    "\n",
    "\t-> 1970 ~ 2017년 이동 인구수\n",
    "\n",
    "\t-> 대구 ===> 타지역으로 이동 인구수 분석 및 시각화 (연도별)\n",
    "\n",
    "\t-> 전국으로 봤을 때 가장 많이 이동이 발생한 지역"
   ]
  },
  {
   "cell_type": "code",
   "execution_count": 358,
   "metadata": {},
   "outputs": [],
   "source": [
    "import pandas as pd\n",
    "import numpy as np\n",
    "import matplotlib.pyplot as plt"
   ]
  },
  {
   "cell_type": "code",
   "execution_count": 359,
   "metadata": {},
   "outputs": [
    {
     "name": "stdout",
     "output_type": "stream",
     "text": [
      "<class 'pandas.core.frame.DataFrame'>\n",
      "RangeIndex: 891 entries, 0 to 890\n",
      "Data columns (total 15 columns):\n",
      " #   Column       Non-Null Count  Dtype  \n",
      "---  ------       --------------  -----  \n",
      " 0   survived     891 non-null    int64  \n",
      " 1   pclass       891 non-null    int64  \n",
      " 2   sex          891 non-null    object \n",
      " 3   age          714 non-null    float64\n",
      " 4   sibsp        891 non-null    int64  \n",
      " 5   parch        891 non-null    int64  \n",
      " 6   fare         891 non-null    float64\n",
      " 7   embarked     889 non-null    object \n",
      " 8   class        891 non-null    object \n",
      " 9   who          891 non-null    object \n",
      " 10  adult_male   891 non-null    bool   \n",
      " 11  deck         203 non-null    object \n",
      " 12  embark_town  889 non-null    object \n",
      " 13  alive        891 non-null    object \n",
      " 14  alone        891 non-null    bool   \n",
      "dtypes: bool(2), float64(2), int64(4), object(7)\n",
      "memory usage: 92.4+ KB\n"
     ]
    }
   ],
   "source": [
    "# 데이터 준비\n",
    "file_name=r'C:\\Users\\kdp\\Desktop\\KDT\\EX_PANDAS06\\data\\titanic.csv'\n",
    "titanDF=pd.read_csv(file_name)\n",
    "# - 기본 정보 확인\n",
    "titanDF.info()"
   ]
  },
  {
   "cell_type": "code",
   "execution_count": 360,
   "metadata": {},
   "outputs": [],
   "source": [
    "# [5] 분석 주제 ==> 성별에 따른 나이 분포\n",
    "# - 분석 컬럼 즉, 성별과 나이 컬럼\n",
    "# - loc[행,열]\n",
    "gender_survivedDF=titanDF.loc[:,['sex','survived']]            # OR dataDF[['sex','age']]"
   ]
  },
  {
   "cell_type": "code",
   "execution_count": 361,
   "metadata": {},
   "outputs": [
    {
     "data": {
      "text/html": [
       "<div>\n",
       "<style scoped>\n",
       "    .dataframe tbody tr th:only-of-type {\n",
       "        vertical-align: middle;\n",
       "    }\n",
       "\n",
       "    .dataframe tbody tr th {\n",
       "        vertical-align: top;\n",
       "    }\n",
       "\n",
       "    .dataframe thead th {\n",
       "        text-align: right;\n",
       "    }\n",
       "</style>\n",
       "<table border=\"1\" class=\"dataframe\">\n",
       "  <thead>\n",
       "    <tr style=\"text-align: right;\">\n",
       "      <th></th>\n",
       "      <th>sex</th>\n",
       "      <th>survived</th>\n",
       "    </tr>\n",
       "  </thead>\n",
       "  <tbody>\n",
       "    <tr>\n",
       "      <th>0</th>\n",
       "      <td>male</td>\n",
       "      <td>0</td>\n",
       "    </tr>\n",
       "    <tr>\n",
       "      <th>1</th>\n",
       "      <td>female</td>\n",
       "      <td>1</td>\n",
       "    </tr>\n",
       "    <tr>\n",
       "      <th>2</th>\n",
       "      <td>female</td>\n",
       "      <td>1</td>\n",
       "    </tr>\n",
       "    <tr>\n",
       "      <th>3</th>\n",
       "      <td>female</td>\n",
       "      <td>1</td>\n",
       "    </tr>\n",
       "    <tr>\n",
       "      <th>4</th>\n",
       "      <td>male</td>\n",
       "      <td>0</td>\n",
       "    </tr>\n",
       "    <tr>\n",
       "      <th>...</th>\n",
       "      <td>...</td>\n",
       "      <td>...</td>\n",
       "    </tr>\n",
       "    <tr>\n",
       "      <th>886</th>\n",
       "      <td>male</td>\n",
       "      <td>0</td>\n",
       "    </tr>\n",
       "    <tr>\n",
       "      <th>887</th>\n",
       "      <td>female</td>\n",
       "      <td>1</td>\n",
       "    </tr>\n",
       "    <tr>\n",
       "      <th>888</th>\n",
       "      <td>female</td>\n",
       "      <td>0</td>\n",
       "    </tr>\n",
       "    <tr>\n",
       "      <th>889</th>\n",
       "      <td>male</td>\n",
       "      <td>1</td>\n",
       "    </tr>\n",
       "    <tr>\n",
       "      <th>890</th>\n",
       "      <td>male</td>\n",
       "      <td>0</td>\n",
       "    </tr>\n",
       "  </tbody>\n",
       "</table>\n",
       "<p>891 rows × 2 columns</p>\n",
       "</div>"
      ],
      "text/plain": [
       "        sex  survived\n",
       "0      male         0\n",
       "1    female         1\n",
       "2    female         1\n",
       "3    female         1\n",
       "4      male         0\n",
       "..      ...       ...\n",
       "886    male         0\n",
       "887  female         1\n",
       "888  female         0\n",
       "889    male         1\n",
       "890    male         0\n",
       "\n",
       "[891 rows x 2 columns]"
      ]
     },
     "execution_count": 361,
     "metadata": {},
     "output_type": "execute_result"
    }
   ],
   "source": [
    "titanDF[['sex','survived']]"
   ]
  },
  {
   "cell_type": "code",
   "execution_count": 362,
   "metadata": {},
   "outputs": [
    {
     "data": {
      "text/plain": [
       "sex         0\n",
       "survived    0\n",
       "dtype: int64"
      ]
     },
     "execution_count": 362,
     "metadata": {},
     "output_type": "execute_result"
    }
   ],
   "source": [
    "gender_survivedDF.isna().sum()"
   ]
  },
  {
   "cell_type": "code",
   "execution_count": 363,
   "metadata": {},
   "outputs": [
    {
     "data": {
      "text/plain": [
       "sex         233\n",
       "survived    233\n",
       "dtype: int64"
      ]
     },
     "execution_count": 363,
     "metadata": {},
     "output_type": "execute_result"
    }
   ],
   "source": [
    "# 생존자 중 성별이 여자\n",
    "bool_index1=(gender_survivedDF['survived']==1) & (gender_survivedDF['sex']=='female')\n",
    "gender_survivedDF[bool_index1].count()"
   ]
  },
  {
   "cell_type": "code",
   "execution_count": 364,
   "metadata": {},
   "outputs": [
    {
     "data": {
      "text/plain": [
       "sex         109\n",
       "survived    109\n",
       "dtype: int64"
      ]
     },
     "execution_count": 364,
     "metadata": {},
     "output_type": "execute_result"
    }
   ],
   "source": [
    "# 생존자 중 성별이 남자\n",
    "bool_index2=(gender_survivedDF['survived']==1) & (gender_survivedDF['sex']=='male')\n",
    "gender_survivedDF[bool_index2].count()"
   ]
  },
  {
   "cell_type": "code",
   "execution_count": 365,
   "metadata": {},
   "outputs": [],
   "source": [
    "# 한글 폰트 설정 ->폰트 매니저 모듈\n",
    "from matplotlib import font_manager as fm\n",
    "from matplotlib import rc\n",
    "\n",
    "# 적용할 폰트 파일\n",
    "font_file=r'C:\\Windows\\Fonts\\batang.ttc'\n",
    "\n",
    "# 폰트 패밀리\n",
    "font_name= fm.FontProperties(fname=font_file).get_name()\n",
    "\n",
    "# 새로운 폰트 패밀리 이름 지정\n",
    "rc('font', family=font_name)\n",
    "\n",
    "# set_custonFont(r'C:\\Windows\\Fonts\\batang.ttc')"
   ]
  },
  {
   "cell_type": "code",
   "execution_count": 366,
   "metadata": {},
   "outputs": [
    {
     "data": {
      "image/png": "[encoded data removed]",
      "text/plain": [
       "<Figure size 640x480 with 1 Axes>"
      ]
     },
     "metadata": {},
     "output_type": "display_data"
    }
   ],
   "source": [
    "# 데이터 시각화 - 수직 막대 그래프\n",
    "gender = ['남자','여자']\n",
    "survived = [(233/342)*100, (109/342)*100]\n",
    "bar_labels =['blue','pink']\n",
    "bar_colors = ['tab:blue', 'tab:pink']\n",
    "\n",
    "\n",
    "plt.bar(gender,survived, width=0.2, color=bar_colors,label=gender,align='center')\n",
    "plt.title('[생존자 중 성별 비율]')\n",
    "\n",
    "plt.legend()\n",
    "plt.tight_layout()              # 모든 내용 출력 될 수 있도록 자동 맞춤 설정\n",
    "plt.show()"
   ]
  },
  {
   "cell_type": "markdown",
   "metadata": {},
   "source": [
    "####[생존자 나이별 성별 비율 비교 시각화 (10대 남/녀 , 20대 남/녀) -> 하나의 Figure에 모두 표시]"
   ]
  },
  {
   "cell_type": "code",
   "execution_count": 367,
   "metadata": {},
   "outputs": [
    {
     "data": {
      "text/html": [
       "<div>\n",
       "<style scoped>\n",
       "    .dataframe tbody tr th:only-of-type {\n",
       "        vertical-align: middle;\n",
       "    }\n",
       "\n",
       "    .dataframe tbody tr th {\n",
       "        vertical-align: top;\n",
       "    }\n",
       "\n",
       "    .dataframe thead th {\n",
       "        text-align: right;\n",
       "    }\n",
       "</style>\n",
       "<table border=\"1\" class=\"dataframe\">\n",
       "  <thead>\n",
       "    <tr style=\"text-align: right;\">\n",
       "      <th></th>\n",
       "      <th>age</th>\n",
       "      <th>survived</th>\n",
       "      <th>sex</th>\n",
       "    </tr>\n",
       "  </thead>\n",
       "  <tbody>\n",
       "    <tr>\n",
       "      <th>0</th>\n",
       "      <td>22.0</td>\n",
       "      <td>0</td>\n",
       "      <td>male</td>\n",
       "    </tr>\n",
       "    <tr>\n",
       "      <th>1</th>\n",
       "      <td>38.0</td>\n",
       "      <td>1</td>\n",
       "      <td>female</td>\n",
       "    </tr>\n",
       "    <tr>\n",
       "      <th>2</th>\n",
       "      <td>26.0</td>\n",
       "      <td>1</td>\n",
       "      <td>female</td>\n",
       "    </tr>\n",
       "    <tr>\n",
       "      <th>3</th>\n",
       "      <td>35.0</td>\n",
       "      <td>1</td>\n",
       "      <td>female</td>\n",
       "    </tr>\n",
       "    <tr>\n",
       "      <th>4</th>\n",
       "      <td>35.0</td>\n",
       "      <td>0</td>\n",
       "      <td>male</td>\n",
       "    </tr>\n",
       "    <tr>\n",
       "      <th>...</th>\n",
       "      <td>...</td>\n",
       "      <td>...</td>\n",
       "      <td>...</td>\n",
       "    </tr>\n",
       "    <tr>\n",
       "      <th>886</th>\n",
       "      <td>27.0</td>\n",
       "      <td>0</td>\n",
       "      <td>male</td>\n",
       "    </tr>\n",
       "    <tr>\n",
       "      <th>887</th>\n",
       "      <td>19.0</td>\n",
       "      <td>1</td>\n",
       "      <td>female</td>\n",
       "    </tr>\n",
       "    <tr>\n",
       "      <th>888</th>\n",
       "      <td>NaN</td>\n",
       "      <td>0</td>\n",
       "      <td>female</td>\n",
       "    </tr>\n",
       "    <tr>\n",
       "      <th>889</th>\n",
       "      <td>26.0</td>\n",
       "      <td>1</td>\n",
       "      <td>male</td>\n",
       "    </tr>\n",
       "    <tr>\n",
       "      <th>890</th>\n",
       "      <td>32.0</td>\n",
       "      <td>0</td>\n",
       "      <td>male</td>\n",
       "    </tr>\n",
       "  </tbody>\n",
       "</table>\n",
       "<p>891 rows × 3 columns</p>\n",
       "</div>"
      ],
      "text/plain": [
       "      age  survived     sex\n",
       "0    22.0         0    male\n",
       "1    38.0         1  female\n",
       "2    26.0         1  female\n",
       "3    35.0         1  female\n",
       "4    35.0         0    male\n",
       "..    ...       ...     ...\n",
       "886  27.0         0    male\n",
       "887  19.0         1  female\n",
       "888   NaN         0  female\n",
       "889  26.0         1    male\n",
       "890  32.0         0    male\n",
       "\n",
       "[891 rows x 3 columns]"
      ]
     },
     "execution_count": 367,
     "metadata": {},
     "output_type": "execute_result"
    }
   ],
   "source": [
    "\n",
    "age_survivedDF=titanDF.loc[:,['age','survived','sex']]   \n",
    "age_survivedDF\n"
   ]
  },
  {
   "cell_type": "code",
   "execution_count": 368,
   "metadata": {},
   "outputs": [
    {
     "data": {
      "text/plain": [
       "177"
      ]
     },
     "execution_count": 368,
     "metadata": {},
     "output_type": "execute_result"
    }
   ],
   "source": [
    "# 나이 결측값 확인\n",
    "age_survivedDF['age'].isna().sum()"
   ]
  },
  {
   "cell_type": "code",
   "execution_count": 369,
   "metadata": {},
   "outputs": [
    {
     "data": {
      "text/plain": [
       "16"
      ]
     },
     "execution_count": 369,
     "metadata": {},
     "output_type": "execute_result"
    }
   ],
   "source": [
    "# 생존자 중 나이를 모르는 사람 16명\n",
    "(age_survivedDF['age'].isna().sum())&(age_survivedDF['survived']==1).sum()\n"
   ]
  },
  {
   "cell_type": "code",
   "execution_count": 370,
   "metadata": {},
   "outputs": [
    {
     "data": {
      "text/html": [
       "<div>\n",
       "<style scoped>\n",
       "    .dataframe tbody tr th:only-of-type {\n",
       "        vertical-align: middle;\n",
       "    }\n",
       "\n",
       "    .dataframe tbody tr th {\n",
       "        vertical-align: top;\n",
       "    }\n",
       "\n",
       "    .dataframe thead th {\n",
       "        text-align: right;\n",
       "    }\n",
       "</style>\n",
       "<table border=\"1\" class=\"dataframe\">\n",
       "  <thead>\n",
       "    <tr style=\"text-align: right;\">\n",
       "      <th></th>\n",
       "      <th>age</th>\n",
       "      <th>survived</th>\n",
       "      <th>sex</th>\n",
       "    </tr>\n",
       "  </thead>\n",
       "  <tbody>\n",
       "    <tr>\n",
       "      <th>0</th>\n",
       "      <td>22.0</td>\n",
       "      <td>0</td>\n",
       "      <td>male</td>\n",
       "    </tr>\n",
       "    <tr>\n",
       "      <th>1</th>\n",
       "      <td>38.0</td>\n",
       "      <td>1</td>\n",
       "      <td>female</td>\n",
       "    </tr>\n",
       "    <tr>\n",
       "      <th>2</th>\n",
       "      <td>26.0</td>\n",
       "      <td>1</td>\n",
       "      <td>female</td>\n",
       "    </tr>\n",
       "    <tr>\n",
       "      <th>3</th>\n",
       "      <td>35.0</td>\n",
       "      <td>1</td>\n",
       "      <td>female</td>\n",
       "    </tr>\n",
       "    <tr>\n",
       "      <th>4</th>\n",
       "      <td>35.0</td>\n",
       "      <td>0</td>\n",
       "      <td>male</td>\n",
       "    </tr>\n",
       "    <tr>\n",
       "      <th>...</th>\n",
       "      <td>...</td>\n",
       "      <td>...</td>\n",
       "      <td>...</td>\n",
       "    </tr>\n",
       "    <tr>\n",
       "      <th>885</th>\n",
       "      <td>39.0</td>\n",
       "      <td>0</td>\n",
       "      <td>female</td>\n",
       "    </tr>\n",
       "    <tr>\n",
       "      <th>886</th>\n",
       "      <td>27.0</td>\n",
       "      <td>0</td>\n",
       "      <td>male</td>\n",
       "    </tr>\n",
       "    <tr>\n",
       "      <th>887</th>\n",
       "      <td>19.0</td>\n",
       "      <td>1</td>\n",
       "      <td>female</td>\n",
       "    </tr>\n",
       "    <tr>\n",
       "      <th>889</th>\n",
       "      <td>26.0</td>\n",
       "      <td>1</td>\n",
       "      <td>male</td>\n",
       "    </tr>\n",
       "    <tr>\n",
       "      <th>890</th>\n",
       "      <td>32.0</td>\n",
       "      <td>0</td>\n",
       "      <td>male</td>\n",
       "    </tr>\n",
       "  </tbody>\n",
       "</table>\n",
       "<p>714 rows × 3 columns</p>\n",
       "</div>"
      ],
      "text/plain": [
       "      age  survived     sex\n",
       "0    22.0         0    male\n",
       "1    38.0         1  female\n",
       "2    26.0         1  female\n",
       "3    35.0         1  female\n",
       "4    35.0         0    male\n",
       "..    ...       ...     ...\n",
       "885  39.0         0  female\n",
       "886  27.0         0    male\n",
       "887  19.0         1  female\n",
       "889  26.0         1    male\n",
       "890  32.0         0    male\n",
       "\n",
       "[714 rows x 3 columns]"
      ]
     },
     "execution_count": 370,
     "metadata": {},
     "output_type": "execute_result"
    }
   ],
   "source": [
    "# 결측값 삭제\n",
    "# 생존자들의 나이별 성별 분석인데 결측치를 0이나 평균으로 매꾸는것은\n",
    "# 부적절하다고 판단\n",
    "age_survivedDF.dropna()"
   ]
  },
  {
   "cell_type": "code",
   "execution_count": 371,
   "metadata": {},
   "outputs": [
    {
     "data": {
      "text/plain": [
       "age         34\n",
       "survived    34\n",
       "sex         34\n",
       "dtype: int64"
      ]
     },
     "execution_count": 371,
     "metadata": {},
     "output_type": "execute_result"
    }
   ],
   "source": [
    "# 생존자 중 10대 여성 34명\n",
    "# 342명 중 34명\n",
    "bool_index10girl = (age_survivedDF['age'] <20) & (age_survivedDF['age'] >= 10) & (age_survivedDF['survived']==1) & (age_survivedDF['sex']=='female')\n",
    "age_survivedDF[bool_index10girl].count()\n",
    "\n"
   ]
  },
  {
   "cell_type": "code",
   "execution_count": 372,
   "metadata": {},
   "outputs": [
    {
     "data": {
      "text/plain": [
       "age         7\n",
       "survived    7\n",
       "sex         7\n",
       "dtype: int64"
      ]
     },
     "execution_count": 372,
     "metadata": {},
     "output_type": "execute_result"
    }
   ],
   "source": [
    "# 생존자 중 10대 남성 7명\n",
    "# 342명 중 7명\n",
    "bool_index10man = (age_survivedDF['age'] <20) & (age_survivedDF['age'] >= 10) & (age_survivedDF['survived']==1) & (age_survivedDF['sex']=='male')\n",
    "age_survivedDF[bool_index10man].count()"
   ]
  },
  {
   "cell_type": "code",
   "execution_count": 373,
   "metadata": {},
   "outputs": [
    {
     "data": {
      "text/plain": [
       "age         52\n",
       "survived    52\n",
       "sex         52\n",
       "dtype: int64"
      ]
     },
     "execution_count": 373,
     "metadata": {},
     "output_type": "execute_result"
    }
   ],
   "source": [
    "# 생존자 중 20대 여성 52명\n",
    "# 342명 중 52명\n",
    "bool_index20girl = (age_survivedDF['age'] <30) & (age_survivedDF['age'] >= 20) & (age_survivedDF['survived']==1) & (age_survivedDF['sex']=='female')\n",
    "age_survivedDF[bool_index20girl].count()"
   ]
  },
  {
   "cell_type": "code",
   "execution_count": 374,
   "metadata": {},
   "outputs": [
    {
     "data": {
      "text/plain": [
       "age         25\n",
       "survived    25\n",
       "sex         25\n",
       "dtype: int64"
      ]
     },
     "execution_count": 374,
     "metadata": {},
     "output_type": "execute_result"
    }
   ],
   "source": [
    "# 생존자 중 20대 남성 25명\n",
    "# 342명 중 25명\n",
    "bool_index20man = (age_survivedDF['age'] <30) & (age_survivedDF['age'] >= 20) & (age_survivedDF['survived']==1) & (age_survivedDF['sex']=='male')\n",
    "age_survivedDF[bool_index20man].count()"
   ]
  },
  {
   "cell_type": "code",
   "execution_count": 375,
   "metadata": {},
   "outputs": [
    {
     "data": {
      "text/plain": [
       "age         50\n",
       "survived    50\n",
       "sex         50\n",
       "dtype: int64"
      ]
     },
     "execution_count": 375,
     "metadata": {},
     "output_type": "execute_result"
    }
   ],
   "source": [
    "# 생존자 중 30대 여성 50명\n",
    "# 342명 중 50명\n",
    "bool_index30girl = (age_survivedDF['age'] <40) & (age_survivedDF['age'] >= 30) & (age_survivedDF['survived']==1) & (age_survivedDF['sex']=='female')\n",
    "age_survivedDF[bool_index30girl].count()"
   ]
  },
  {
   "cell_type": "code",
   "execution_count": 376,
   "metadata": {},
   "outputs": [
    {
     "data": {
      "text/plain": [
       "age         23\n",
       "survived    23\n",
       "sex         23\n",
       "dtype: int64"
      ]
     },
     "execution_count": 376,
     "metadata": {},
     "output_type": "execute_result"
    }
   ],
   "source": [
    "# 생존자 중 30대 남성 23명\n",
    "# 342명 중 23명\n",
    "bool_index30man = (age_survivedDF['age'] <40) & (age_survivedDF['age'] >= 30) & (age_survivedDF['survived']==1) & (age_survivedDF['sex']=='male')\n",
    "age_survivedDF[bool_index30man].count()"
   ]
  },
  {
   "cell_type": "code",
   "execution_count": 377,
   "metadata": {},
   "outputs": [
    {
     "data": {
      "text/plain": [
       "age         22\n",
       "survived    22\n",
       "sex         22\n",
       "dtype: int64"
      ]
     },
     "execution_count": 377,
     "metadata": {},
     "output_type": "execute_result"
    }
   ],
   "source": [
    "# 생존자 중 40대 여성 22명\n",
    "# 342명 중 22명\n",
    "bool_index40girl = (age_survivedDF['age'] <50) & (age_survivedDF['age'] >= 40) & (age_survivedDF['survived']==1) & (age_survivedDF['sex']=='female')\n",
    "age_survivedDF[bool_index40girl].count()"
   ]
  },
  {
   "cell_type": "code",
   "execution_count": 378,
   "metadata": {},
   "outputs": [
    {
     "data": {
      "text/plain": [
       "age         12\n",
       "survived    12\n",
       "sex         12\n",
       "dtype: int64"
      ]
     },
     "execution_count": 378,
     "metadata": {},
     "output_type": "execute_result"
    }
   ],
   "source": [
    "# 생존자 중 40대 남성 12명\n",
    "# 342명 중 12명\n",
    "bool_index40man = (age_survivedDF['age'] <50) & (age_survivedDF['age'] >= 40) & (age_survivedDF['survived']==1) & (age_survivedDF['sex']=='male')\n",
    "age_survivedDF[bool_index40man].count()"
   ]
  },
  {
   "cell_type": "code",
   "execution_count": 379,
   "metadata": {},
   "outputs": [
    {
     "data": {
      "text/plain": [
       "age         16\n",
       "survived    16\n",
       "sex         16\n",
       "dtype: int64"
      ]
     },
     "execution_count": 379,
     "metadata": {},
     "output_type": "execute_result"
    }
   ],
   "source": [
    "# 생존자 중 50대 여성 16명\n",
    "# 342명 중 16명\n",
    "bool_index50girl = (age_survivedDF['age'] <60) & (age_survivedDF['age'] >= 50) & (age_survivedDF['survived']==1) & (age_survivedDF['sex']=='female')\n",
    "age_survivedDF[bool_index50girl].count()"
   ]
  },
  {
   "cell_type": "code",
   "execution_count": 380,
   "metadata": {},
   "outputs": [
    {
     "data": {
      "text/plain": [
       "age         4\n",
       "survived    4\n",
       "sex         4\n",
       "dtype: int64"
      ]
     },
     "execution_count": 380,
     "metadata": {},
     "output_type": "execute_result"
    }
   ],
   "source": [
    "# 생존자 중 50대 남성 4명\n",
    "# 342명 중 4명\n",
    "bool_index50man = (age_survivedDF['age'] <60) & (age_survivedDF['age'] >= 50) & (age_survivedDF['survived']==1) & (age_survivedDF['sex']=='male')\n",
    "age_survivedDF[bool_index50man].count()\n"
   ]
  },
  {
   "cell_type": "code",
   "execution_count": 381,
   "metadata": {},
   "outputs": [
    {
     "data": {
      "text/plain": [
       "age         4\n",
       "survived    4\n",
       "sex         4\n",
       "dtype: int64"
      ]
     },
     "execution_count": 381,
     "metadata": {},
     "output_type": "execute_result"
    }
   ],
   "source": [
    "# 생존자 중 60대 여성 4명\n",
    "# 342명 중 4명\n",
    "bool_index60girl = (age_survivedDF['age'] <70) & (age_survivedDF['age'] >= 60) & (age_survivedDF['survived']==1) & (age_survivedDF['sex']=='female')\n",
    "age_survivedDF[bool_index60girl].count()"
   ]
  },
  {
   "cell_type": "code",
   "execution_count": 382,
   "metadata": {},
   "outputs": [
    {
     "data": {
      "text/plain": [
       "age         2\n",
       "survived    2\n",
       "sex         2\n",
       "dtype: int64"
      ]
     },
     "execution_count": 382,
     "metadata": {},
     "output_type": "execute_result"
    }
   ],
   "source": [
    "# 생존자 중 60대 남성 2명\n",
    "# 342명 중 2명\n",
    "bool_index60man = (age_survivedDF['age'] <70) & (age_survivedDF['age'] >= 60) & (age_survivedDF['survived']==1) & (age_survivedDF['sex']=='male')\n",
    "age_survivedDF[bool_index60man].count()"
   ]
  },
  {
   "cell_type": "code",
   "execution_count": 383,
   "metadata": {},
   "outputs": [
    {
     "data": {
      "text/plain": [
       "age         0\n",
       "survived    0\n",
       "sex         0\n",
       "dtype: int64"
      ]
     },
     "execution_count": 383,
     "metadata": {},
     "output_type": "execute_result"
    }
   ],
   "source": [
    "# 생존자 중 70대 여성 0명\n",
    "# 342명 중 0 명\n",
    "bool_index70girl = (age_survivedDF['age'] <80) & (age_survivedDF['age'] >= 70) & (age_survivedDF['survived']==1) & (age_survivedDF['sex']=='female')\n",
    "age_survivedDF[bool_index70girl].count()"
   ]
  },
  {
   "cell_type": "code",
   "execution_count": 384,
   "metadata": {},
   "outputs": [
    {
     "data": {
      "text/plain": [
       "age         0\n",
       "survived    0\n",
       "sex         0\n",
       "dtype: int64"
      ]
     },
     "execution_count": 384,
     "metadata": {},
     "output_type": "execute_result"
    }
   ],
   "source": [
    "# 생존자 중 70대 남성 0명\n",
    "# 342명 중 0명\n",
    "bool_index70man = (age_survivedDF['age'] <80) & (age_survivedDF['age'] >= 70) & (age_survivedDF['survived']==1) & (age_survivedDF['sex']=='male')\n",
    "age_survivedDF[bool_index70man].count()"
   ]
  },
  {
   "cell_type": "code",
   "execution_count": 385,
   "metadata": {},
   "outputs": [
    {
     "data": {
      "text/plain": [
       "age         0\n",
       "survived    0\n",
       "sex         0\n",
       "dtype: int64"
      ]
     },
     "execution_count": 385,
     "metadata": {},
     "output_type": "execute_result"
    }
   ],
   "source": [
    "# 생존자 중 80대 여성 0명\n",
    "# 342명 중 0 명\n",
    "bool_index80girl = (age_survivedDF['age'] <90) & (age_survivedDF['age'] >= 80) & (age_survivedDF['survived']==1) & (age_survivedDF['sex']=='female')\n",
    "age_survivedDF[bool_index80girl].count()"
   ]
  },
  {
   "cell_type": "code",
   "execution_count": 386,
   "metadata": {},
   "outputs": [
    {
     "data": {
      "text/plain": [
       "age         1\n",
       "survived    1\n",
       "sex         1\n",
       "dtype: int64"
      ]
     },
     "execution_count": 386,
     "metadata": {},
     "output_type": "execute_result"
    }
   ],
   "source": [
    "# 생존자 중 80대 남성 1명\n",
    "# 342명 중 1 명\n",
    "bool_index80man = (age_survivedDF['age'] <90) & (age_survivedDF['age'] >= 80) & (age_survivedDF['survived']==1) & (age_survivedDF['sex']=='male')\n",
    "age_survivedDF[bool_index80man].count()"
   ]
  },
  {
   "cell_type": "code",
   "execution_count": 387,
   "metadata": {},
   "outputs": [],
   "source": [
    "# 10,20대 그래프\n",
    "gender = ['10대남성', '10대여성','20대남성','20대여성']\n",
    "counts = [7,34,52,25]\n",
    "bar_labels = ['red', 'blue', '_red', 'orange']\n",
    "bar_colors = ['tab:red', 'tab:blue', 'tab:red', 'tab:orange']"
   ]
  },
  {
   "cell_type": "code",
   "execution_count": 388,
   "metadata": {},
   "outputs": [
    {
     "data": {
      "image/png": "[encoded data removed]",
      "text/plain": [
       "<Figure size 640x480 with 1 Axes>"
      ]
     },
     "metadata": {},
     "output_type": "display_data"
    }
   ],
   "source": [
    "# [3] 데이터 시각화 - 수직막대그래프\n",
    "plt.bar(gender,counts, width=0.3, color=bar_colors,label=gender)\n",
    "plt.plot(counts,'bo--')\n",
    "plt.legend()\n",
    "plt.show()"
   ]
  },
  {
   "cell_type": "code",
   "execution_count": 389,
   "metadata": {},
   "outputs": [],
   "source": [
    "# 30대 40대 그래프\n",
    "gender = ['30대남성', '30대여성','40대남성','40대여성']\n",
    "counts = [23,50,12,22]\n",
    "bar_labels = ['green', 'skyblue', '_green', 'orange']\n",
    "bar_colors = ['tab:red', 'tab:blue', 'tab:red', 'tab:orange']"
   ]
  },
  {
   "cell_type": "code",
   "execution_count": 390,
   "metadata": {},
   "outputs": [
    {
     "data": {
      "image/png": "[encoded data removed]",
      "text/plain": [
       "<Figure size 640x480 with 1 Axes>"
      ]
     },
     "metadata": {},
     "output_type": "display_data"
    }
   ],
   "source": [
    "# [3] 데이터 시각화 - 수직막대그래프\n",
    "plt.bar(gender,counts, width=0.3, color=bar_colors,label=gender)\n",
    "plt.plot(counts,'bo--')\n",
    "plt.legend()\n",
    "plt.show()"
   ]
  },
  {
   "cell_type": "code",
   "execution_count": 391,
   "metadata": {},
   "outputs": [],
   "source": [
    "# 50,60대 그래프\n",
    "gender = ['50대남성', '50대여성','60대남성','60대여성']\n",
    "counts = [4,16,2,4]\n",
    "bar_labels = ['red', 'blue', '_red', 'orange']\n",
    "bar_colors = ['tab:red', 'tab:blue', 'tab:red', 'tab:orange']"
   ]
  },
  {
   "cell_type": "code",
   "execution_count": 392,
   "metadata": {},
   "outputs": [
    {
     "data": {
      "text/plain": [
       "<matplotlib.legend.Legend at 0x20422d84a60>"
      ]
     },
     "execution_count": 392,
     "metadata": {},
     "output_type": "execute_result"
    },
    {
     "data": {
      "image/png": "[encoded data removed]",
      "text/plain": [
       "<Figure size 640x480 with 1 Axes>"
      ]
     },
     "metadata": {},
     "output_type": "display_data"
    }
   ],
   "source": [
    "# [3] 데이터 시각화 - 수직막대그래프\n",
    "plt.bar(gender,counts, width=0.3, color=bar_colors,label=gender)\n",
    "plt.plot(counts,'bo--')\n",
    "plt.legend()"
   ]
  },
  {
   "cell_type": "code",
   "execution_count": 393,
   "metadata": {},
   "outputs": [
    {
     "data": {
      "text/plain": [
       "<matplotlib.legend.Legend at 0x20422f964f0>"
      ]
     },
     "execution_count": 393,
     "metadata": {},
     "output_type": "execute_result"
    },
    {
     "data": {
      "image/png": "[encoded data removed]",
      "text/plain": [
       "<Figure size 640x480 with 1 Axes>"
      ]
     },
     "metadata": {},
     "output_type": "display_data"
    }
   ],
   "source": [
    "# 70,80대 그래프\n",
    "gender = ['70대남성', '70대여성','80대남성','80대여성']\n",
    "counts = [0,0,1,0]\n",
    "bar_labels = ['red', 'blue', '_red', 'orange']\n",
    "bar_colors = ['tab:red', 'tab:blue', 'tab:red', 'tab:orange']\n",
    "# [3] 데이터 시각화 - 수직막대그래프\n",
    "plt.bar(gender,counts, width=0.3, color=bar_colors,label=gender)\n",
    "plt.plot(counts,'bo--')\n",
    "plt.legend()"
   ]
  },
  {
   "cell_type": "markdown",
   "metadata": {},
   "source": [
    "-[2] 시도별 전출입 인구수 \n",
    "\n",
    "\t-> 1970 ~ 2017년 이동 인구수\n",
    "\n",
    "\t-> 대구 ===> 타지역으로 이동 인구수 분석 및 시각화 (연도별)"
   ]
  },
  {
   "cell_type": "code",
   "execution_count": 395,
   "metadata": {},
   "outputs": [],
   "source": [
    "# 데이터 준비\n",
    "file_name1=r'C:\\Users\\kdp\\Desktop\\KDT\\EX_PANDAS06\\data\\시도별 전출입 인구수.xlsx'\n",
    "cityDF=pd.read_excel(file_name1)"
   ]
  },
  {
   "cell_type": "code",
   "execution_count": 404,
   "metadata": {},
   "outputs": [
    {
     "data": {
      "text/plain": [
       "0      이동자수 (명)\n",
       "1       4046536\n",
       "2       1742813\n",
       "3        448577\n",
       "4             -\n",
       "         ...   \n",
       "320         139\n",
       "321         631\n",
       "322         374\n",
       "323         474\n",
       "324        9290\n",
       "Name: 1970, Length: 325, dtype: object"
      ]
     },
     "execution_count": 404,
     "metadata": {},
     "output_type": "execute_result"
    }
   ],
   "source": [
    "cityDF['1970']"
   ]
  },
  {
   "cell_type": "code",
   "execution_count": 434,
   "metadata": {},
   "outputs": [
    {
     "data": {
      "text/plain": [
       "전출지별    307\n",
       "전입지별      1\n",
       "1970      0\n",
       "1971      0\n",
       "1972      0\n",
       "1973      0\n",
       "1974      0\n",
       "1975      0\n",
       "1976      0\n",
       "1977      0\n",
       "1978      0\n",
       "1979      0\n",
       "1980      0\n",
       "1981      0\n",
       "1982      0\n",
       "1983      0\n",
       "1984      3\n",
       "1985      3\n",
       "1986      3\n",
       "1987      0\n",
       "1988      0\n",
       "1989      0\n",
       "1990      0\n",
       "1991      0\n",
       "1992      0\n",
       "1993      0\n",
       "1994      0\n",
       "1995      0\n",
       "1996      0\n",
       "1997      0\n",
       "1998      0\n",
       "1999      0\n",
       "2000      0\n",
       "2001      0\n",
       "2002      0\n",
       "2003      0\n",
       "2004      0\n",
       "2005      0\n",
       "2006      0\n",
       "2007      0\n",
       "2008      0\n",
       "2009      0\n",
       "2010      0\n",
       "2011      0\n",
       "2012      0\n",
       "2013      0\n",
       "2014      0\n",
       "2015      0\n",
       "2016      0\n",
       "2017      0\n",
       "dtype: int64"
      ]
     },
     "execution_count": 434,
     "metadata": {},
     "output_type": "execute_result"
    }
   ],
   "source": [
    "cityDF.isna().sum()"
   ]
  },
  {
   "cell_type": "code",
   "execution_count": null,
   "metadata": {},
   "outputs": [],
   "source": [
    "cityDF.fillna"
   ]
  },
  {
   "cell_type": "code",
   "execution_count": 432,
   "metadata": {},
   "outputs": [
    {
     "data": {
      "image/png": "[encoded data removed]",
      "text/plain": [
       "<Figure size 640x480 with 1 Axes>"
      ]
     },
     "metadata": {},
     "output_type": "display_data"
    }
   ],
   "source": [
    "cityDF.iloc[1]['1970']\n",
    "plt.plot(cityDF.iloc[1]['1970'],'bo--',label='전국-1970')\n",
    "plt.plot(cityDF.iloc[1]['1971'],'ro--',label='전국-1971')\n",
    "plt.title(\"[남한 & 북한 발전량]\")\n",
    "plt.xlabel(\"Value\")\n",
    "plt.ylabel(\"Year\")\n",
    "plt.legend()            # 범례 표시\n",
    "plt.show()\n"
   ]
  },
  {
   "cell_type": "code",
   "execution_count": null,
   "metadata": {},
   "outputs": [],
   "source": []
  }
 ],
 "metadata": {
  "kernelspec": {
   "display_name": "PY39",
   "language": "python",
   "name": "python3"
  },
  "language_info": {
   "codemirror_mode": {
    "name": "ipython",
    "version": 3
   },
   "file_extension": ".py",
   "mimetype": "text/x-python",
   "name": "python",
   "nbconvert_exporter": "python",
   "pygments_lexer": "ipython3",
   "version": "3.9.19"
  }
 },
 "nbformat": 4,
 "nbformat_minor": 2
}
