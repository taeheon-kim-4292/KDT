{
 "cells": [
  {
   "cell_type": "markdown",
   "metadata": {},
   "source": [
    "### [DataFrame 살펴보기]\n",
    "- 판다스에서 데이터를 저장하는 자료형\n",
    "- 구성 : 2차원 데이터를 저장    인덱스 + 열이름 + 데이터\n",
    "- 형식 : pandas.DataFrame(2D데이터)"
   ]
  },
  {
   "cell_type": "code",
   "execution_count": 1,
   "metadata": {},
   "outputs": [],
   "source": [
    "# 모듈 로딩\n",
    "import pandas as pd"
   ]
  },
  {
   "cell_type": "code",
   "execution_count": 2,
   "metadata": {},
   "outputs": [],
   "source": [
    "# 데이터 준비\n",
    "jumsu=[[98,45,91],[41,72,36]]"
   ]
  },
  {
   "cell_type": "code",
   "execution_count": 3,
   "metadata": {},
   "outputs": [],
   "source": [
    "# DF로 데이터 저장하기\n",
    "jumsuDF=pd.DataFrame(jumsu)"
   ]
  },
  {
   "cell_type": "code",
   "execution_count": 4,
   "metadata": {},
   "outputs": [
    {
     "name": "stdout",
     "output_type": "stream",
     "text": [
      "    0   1   2\n",
      "0  98  45  91\n",
      "1  41  72  36\n"
     ]
    }
   ],
   "source": [
    "# DF로 저장된 데이터 확인\n",
    "print(jumsuDF)"
   ]
  },
  {
   "cell_type": "code",
   "execution_count": 14,
   "metadata": {},
   "outputs": [
    {
     "name": "stdout",
     "output_type": "stream",
     "text": [
      "RangeIndex(start=0, stop=2, step=1)\n",
      "RangeIndex(start=0, stop=3, step=1)\n",
      "\n",
      "[[98 45 91]\n",
      " [41 72 36]]\n",
      "dtypes :0    int64\n",
      "1    int64\n",
      "2    int64\n",
      "dtype: object\n",
      "ndim :2\n",
      "shape: (2, 3)\n"
     ]
    }
   ],
   "source": [
    "## DF 속성 읽기 ==> 변수명.속성명\n",
    "## - index, columns, values, ndim, dtypes\n",
    "print(f'{jumsuDF.index}')\n",
    "print(f'{jumsuDF.columns}')\n",
    "print(f'\\n{jumsuDF.values}')\n",
    "print(f'dtypes :{jumsuDF.dtypes}')\n",
    "print(f'ndim :{jumsuDF.ndim}')\n",
    "print(f'shape: {jumsuDF.shape}')"
   ]
  },
  {
   "cell_type": "code",
   "execution_count": 15,
   "metadata": {},
   "outputs": [
    {
     "name": "stdout",
     "output_type": "stream",
     "text": [
      "    0   1   2\n",
      "0  98  45  91\n",
      "1  41  72  36\n"
     ]
    }
   ],
   "source": [
    "# DF안에 있는 모든 원소를 하나씩 출력하세요\n",
    "print(jumsuDF)"
   ]
  },
  {
   "cell_type": "code",
   "execution_count": 18,
   "metadata": {},
   "outputs": [
    {
     "name": "stdout",
     "output_type": "stream",
     "text": [
      "0 0\n",
      "0 1\n",
      "0 2\n",
      "1 0\n",
      "1 1\n",
      "1 2\n"
     ]
    }
   ],
   "source": [
    "for r in jumsuDF.index:     # range(0,2,1)\n",
    "    for c in jumsuDF.columns:   # range(0,3,1)\n",
    "        print(r,c)"
   ]
  },
  {
   "cell_type": "markdown",
   "metadata": {},
   "source": [
    "- DataFrame 생성 시 인덱스 지정"
   ]
  },
  {
   "cell_type": "code",
   "execution_count": 23,
   "metadata": {},
   "outputs": [],
   "source": [
    "index_value=['A','B']\n",
    "column_value=['국어','과학','미술']\n",
    "df2=pd.DataFrame(jumsu, index=index_value,columns=column_value)"
   ]
  },
  {
   "cell_type": "code",
   "execution_count": 24,
   "metadata": {},
   "outputs": [
    {
     "name": "stdout",
     "output_type": "stream",
     "text": [
      "   국어  과학  미술\n",
      "A  98  45  91\n",
      "B  41  72  36\n"
     ]
    }
   ],
   "source": [
    "# 데이터 저장된 DF 확인\n",
    "print(df2)"
   ]
  },
  {
   "cell_type": "code",
   "execution_count": 25,
   "metadata": {},
   "outputs": [
    {
     "name": "stdout",
     "output_type": "stream",
     "text": [
      "Index(['A', 'B'], dtype='object')\n",
      "<class 'pandas.core.indexes.base.Index'>\n"
     ]
    }
   ],
   "source": [
    "# DF 인덱스 속성 읽기 ==> 변수명.index\n",
    "print(df2.index,type(df2.index), sep='\\n')"
   ]
  },
  {
   "cell_type": "code",
   "execution_count": 26,
   "metadata": {},
   "outputs": [
    {
     "name": "stdout",
     "output_type": "stream",
     "text": [
      "Index(['국어', '과학', '미술'], dtype='object')\n",
      "<class 'pandas.core.indexes.base.Index'>\n"
     ]
    }
   ],
   "source": [
    "# DF 인덱스 속성 읽기 ==> 변수명.columns\n",
    "print(df2.columns,type(df2.columns), sep='\\n')"
   ]
  },
  {
   "cell_type": "code",
   "execution_count": null,
   "metadata": {},
   "outputs": [],
   "source": []
  }
 ],
 "metadata": {
  "kernelspec": {
   "display_name": "PY39",
   "language": "python",
   "name": "python3"
  },
  "language_info": {
   "codemirror_mode": {
    "name": "ipython",
    "version": 3
   },
   "file_extension": ".py",
   "mimetype": "text/x-python",
   "name": "python",
   "nbconvert_exporter": "python",
   "pygments_lexer": "ipython3",
   "version": "3.9.19"
  }
 },
 "nbformat": 4,
 "nbformat_minor": 2
}
