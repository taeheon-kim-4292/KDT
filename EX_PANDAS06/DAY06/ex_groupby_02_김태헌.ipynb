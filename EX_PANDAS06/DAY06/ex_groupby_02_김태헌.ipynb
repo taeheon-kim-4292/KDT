{
 "cells": [
  {
   "cell_type": "markdown",
   "metadata": {},
   "source": [
    "### [그룹화 처리]\n",
    "- 주제 : 타이타닉에서 선실에 등급에 따른 생존 비율을 분석\n"
   ]
  },
  {
   "cell_type": "code",
   "execution_count": 189,
   "metadata": {},
   "outputs": [],
   "source": [
    "# [1] 모듈로딩\n",
    "import pandas as pd\n",
    "import df_util as util"
   ]
  },
  {
   "cell_type": "code",
   "execution_count": 190,
   "metadata": {},
   "outputs": [],
   "source": [
    "# [2] 데이터 준비\n",
    "file_name = 'titanic.csv'"
   ]
  },
  {
   "cell_type": "code",
   "execution_count": 191,
   "metadata": {},
   "outputs": [],
   "source": [
    "# [3] csv ==> DataFrame으로 저장\n",
    "dataDF=pd.read_csv(file_name)"
   ]
  },
  {
   "cell_type": "code",
   "execution_count": 192,
   "metadata": {},
   "outputs": [
    {
     "name": "stdout",
     "output_type": "stream",
     "text": [
      "\n",
      "[dataDF]\n",
      "<class 'pandas.core.frame.DataFrame'>\n",
      "RangeIndex: 891 entries, 0 to 890\n",
      "Data columns (total 15 columns):\n",
      " #   Column       Non-Null Count  Dtype  \n",
      "---  ------       --------------  -----  \n",
      " 0   survived     891 non-null    int64  \n",
      " 1   pclass       891 non-null    int64  \n",
      " 2   sex          891 non-null    object \n",
      " 3   age          714 non-null    float64\n",
      " 4   sibsp        891 non-null    int64  \n",
      " 5   parch        891 non-null    int64  \n",
      " 6   fare         891 non-null    float64\n",
      " 7   embarked     889 non-null    object \n",
      " 8   class        891 non-null    object \n",
      " 9   who          891 non-null    object \n",
      " 10  adult_male   891 non-null    bool   \n",
      " 11  deck         203 non-null    object \n",
      " 12  embark_town  889 non-null    object \n",
      " 13  alive        891 non-null    object \n",
      " 14  alone        891 non-null    bool   \n",
      "dtypes: bool(2), float64(2), int64(4), object(7)\n",
      "memory usage: 92.4+ KB\n",
      "[Index] : RangeIndex(start=0, stop=891, step=1)\n",
      "[Columns] : Index(['survived', 'pclass', 'sex', 'age', 'sibsp', 'parch', 'fare',\n",
      "       'embarked', 'class', 'who', 'adult_male', 'deck', 'embark_town',\n",
      "       'alive', 'alone'],\n",
      "      dtype='object')\n",
      "[NDim] : 2\n"
     ]
    }
   ],
   "source": [
    "# [4] 데이터 확인\n",
    "util.checkDataFrame(dataDF, 'dataDF')"
   ]
  },
  {
   "cell_type": "code",
   "execution_count": 193,
   "metadata": {},
   "outputs": [],
   "source": [
    "# [5] 분석 주제 ==> 선실에 등급에 따른 생존 비율을 분석\n",
    "# - 분석 컬럼 즉, 선실과 생존 컬럼\n",
    "# - loc[행,열]\n",
    "pc_aliveDF=dataDF.loc[:,['sex','age']]            # OR dataDF[['sex','age']]"
   ]
  },
  {
   "cell_type": "code",
   "execution_count": 194,
   "metadata": {},
   "outputs": [
    {
     "data": {
      "text/html": [
       "<div>\n",
       "<style scoped>\n",
       "    .dataframe tbody tr th:only-of-type {\n",
       "        vertical-align: middle;\n",
       "    }\n",
       "\n",
       "    .dataframe tbody tr th {\n",
       "        vertical-align: top;\n",
       "    }\n",
       "\n",
       "    .dataframe thead th {\n",
       "        text-align: right;\n",
       "    }\n",
       "</style>\n",
       "<table border=\"1\" class=\"dataframe\">\n",
       "  <thead>\n",
       "    <tr style=\"text-align: right;\">\n",
       "      <th></th>\n",
       "      <th>sex</th>\n",
       "      <th>age</th>\n",
       "    </tr>\n",
       "  </thead>\n",
       "  <tbody>\n",
       "    <tr>\n",
       "      <th>0</th>\n",
       "      <td>male</td>\n",
       "      <td>22.0</td>\n",
       "    </tr>\n",
       "    <tr>\n",
       "      <th>1</th>\n",
       "      <td>female</td>\n",
       "      <td>38.0</td>\n",
       "    </tr>\n",
       "    <tr>\n",
       "      <th>2</th>\n",
       "      <td>female</td>\n",
       "      <td>26.0</td>\n",
       "    </tr>\n",
       "    <tr>\n",
       "      <th>3</th>\n",
       "      <td>female</td>\n",
       "      <td>35.0</td>\n",
       "    </tr>\n",
       "    <tr>\n",
       "      <th>4</th>\n",
       "      <td>male</td>\n",
       "      <td>35.0</td>\n",
       "    </tr>\n",
       "    <tr>\n",
       "      <th>...</th>\n",
       "      <td>...</td>\n",
       "      <td>...</td>\n",
       "    </tr>\n",
       "    <tr>\n",
       "      <th>886</th>\n",
       "      <td>male</td>\n",
       "      <td>27.0</td>\n",
       "    </tr>\n",
       "    <tr>\n",
       "      <th>887</th>\n",
       "      <td>female</td>\n",
       "      <td>19.0</td>\n",
       "    </tr>\n",
       "    <tr>\n",
       "      <th>888</th>\n",
       "      <td>female</td>\n",
       "      <td>NaN</td>\n",
       "    </tr>\n",
       "    <tr>\n",
       "      <th>889</th>\n",
       "      <td>male</td>\n",
       "      <td>26.0</td>\n",
       "    </tr>\n",
       "    <tr>\n",
       "      <th>890</th>\n",
       "      <td>male</td>\n",
       "      <td>32.0</td>\n",
       "    </tr>\n",
       "  </tbody>\n",
       "</table>\n",
       "<p>891 rows × 2 columns</p>\n",
       "</div>"
      ],
      "text/plain": [
       "        sex   age\n",
       "0      male  22.0\n",
       "1    female  38.0\n",
       "2    female  26.0\n",
       "3    female  35.0\n",
       "4      male  35.0\n",
       "..      ...   ...\n",
       "886    male  27.0\n",
       "887  female  19.0\n",
       "888  female   NaN\n",
       "889    male  26.0\n",
       "890    male  32.0\n",
       "\n",
       "[891 rows x 2 columns]"
      ]
     },
     "execution_count": 194,
     "metadata": {},
     "output_type": "execute_result"
    }
   ],
   "source": [
    "pc_aliveDF"
   ]
  },
  {
   "cell_type": "code",
   "execution_count": 195,
   "metadata": {},
   "outputs": [
    {
     "data": {
      "text/plain": [
       "sex      0\n",
       "age    177\n",
       "dtype: int64"
      ]
     },
     "execution_count": 195,
     "metadata": {},
     "output_type": "execute_result"
    }
   ],
   "source": [
    "# [5-1] 데이터 전처리 : 결측치, 중복값\n",
    "# --- 결측치 : isna(), isnull()\n",
    "pc_aliveDF.isna().sum()         # False => 정상데이터"
   ]
  },
  {
   "cell_type": "code",
   "execution_count": 196,
   "metadata": {},
   "outputs": [
    {
     "data": {
      "text/plain": [
       "<pandas.core.groupby.generic.DataFrameGroupBy object at 0x0000021829A55250>"
      ]
     },
     "execution_count": 196,
     "metadata": {},
     "output_type": "execute_result"
    }
   ],
   "source": [
    "groupObject=pc_aliveDF.groupby('sex') \n",
    "groupObject\n"
   ]
  },
  {
   "cell_type": "code",
   "execution_count": 197,
   "metadata": {},
   "outputs": [
    {
     "name": "stdout",
     "output_type": "stream",
     "text": [
      "dict_keys(['female', 'male'])\n",
      "dict_values([Index([  1,   2,   3,   8,   9,  10,  11,  14,  15,  18,\n",
      "       ...\n",
      "       866, 871, 874, 875, 879, 880, 882, 885, 887, 888],\n",
      "      dtype='int64', length=314), Index([  0,   4,   5,   6,   7,  12,  13,  16,  17,  20,\n",
      "       ...\n",
      "       873, 876, 877, 878, 881, 883, 884, 886, 889, 890],\n",
      "      dtype='int64', length=577)])\n"
     ]
    }
   ],
   "source": [
    "# -- Group 객체의 속성\n",
    "# -- Groups 속성 : 그룹화된 그룹에 속하는 인덱스 정보 저장 Dict 형태\n",
    "print( groupObject.groups.keys() )\n",
    "print( groupObject.groups.values())"
   ]
  },
  {
   "cell_type": "code",
   "execution_count": 198,
   "metadata": {},
   "outputs": [
    {
     "name": "stdout",
     "output_type": "stream",
     "text": [
      "{'female': array([  1,   2,   3,   8,   9,  10,  11,  14,  15,  18,  19,  22,  24,\n",
      "        25,  28,  31,  32,  38,  39,  40,  41,  43,  44,  47,  49,  52,\n",
      "        53,  56,  58,  61,  66,  68,  71,  79,  82,  84,  85,  88,  98,\n",
      "       100, 106, 109, 111, 113, 114, 119, 123, 128, 132, 133, 136, 140,\n",
      "       141, 142, 147, 151, 156, 161, 166, 167, 172, 177, 180, 184, 186,\n",
      "       190, 192, 194, 195, 198, 199, 205, 208, 211, 215, 216, 218, 229,\n",
      "       230, 233, 235, 237, 240, 241, 246, 247, 251, 254, 255, 256, 257,\n",
      "       258, 259, 264, 268, 269, 272, 274, 275, 276, 279, 289, 290, 291,\n",
      "       293, 297, 299, 300, 303, 306, 307, 309, 310, 311, 312, 315, 316,\n",
      "       318, 319, 322, 323, 325, 327, 328, 329, 330, 334, 337, 341, 345,\n",
      "       346, 347, 356, 357, 358, 359, 362, 366, 367, 368, 369, 374, 375,\n",
      "       376, 380, 381, 383, 387, 389, 393, 394, 396, 399, 402, 404, 409,\n",
      "       412, 415, 416, 417, 419, 423, 426, 427, 431, 432, 435, 436, 437,\n",
      "       440, 443, 446, 448, 457, 458, 469, 472, 473, 474, 479, 483, 485,\n",
      "       486, 496, 498, 501, 502, 503, 504, 506, 513, 516, 518, 520, 523,\n",
      "       526, 530, 533, 534, 535, 537, 539, 540, 541, 542, 546, 554, 556,\n",
      "       558, 559, 564, 567, 571, 573, 576, 577, 578, 580, 581, 585, 591,\n",
      "       593, 596, 600, 608, 609, 610, 612, 615, 617, 618, 627, 634, 635,\n",
      "       638, 641, 642, 644, 649, 651, 653, 654, 657, 669, 670, 677, 678,\n",
      "       680, 689, 691, 697, 700, 702, 706, 708, 710, 716, 717, 720, 726,\n",
      "       727, 729, 730, 736, 742, 747, 750, 754, 759, 763, 765, 767, 772,\n",
      "       774, 777, 779, 780, 781, 786, 792, 796, 797, 799, 801, 807, 809,\n",
      "       813, 816, 820, 823, 829, 830, 835, 842, 849, 852, 853, 854, 855,\n",
      "       856, 858, 862, 863, 865, 866, 871, 874, 875, 879, 880, 882, 885,\n",
      "       887, 888], dtype=int64), 'male': array([  0,   4,   5,   6,   7,  12,  13,  16,  17,  20,  21,  23,  26,\n",
      "        27,  29,  30,  33,  34,  35,  36,  37,  42,  45,  46,  48,  50,\n",
      "        51,  54,  55,  57,  59,  60,  62,  63,  64,  65,  67,  69,  70,\n",
      "        72,  73,  74,  75,  76,  77,  78,  80,  81,  83,  86,  87,  89,\n",
      "        90,  91,  92,  93,  94,  95,  96,  97,  99, 101, 102, 103, 104,\n",
      "       105, 107, 108, 110, 112, 115, 116, 117, 118, 120, 121, 122, 124,\n",
      "       125, 126, 127, 129, 130, 131, 134, 135, 137, 138, 139, 143, 144,\n",
      "       145, 146, 148, 149, 150, 152, 153, 154, 155, 157, 158, 159, 160,\n",
      "       162, 163, 164, 165, 168, 169, 170, 171, 173, 174, 175, 176, 178,\n",
      "       179, 181, 182, 183, 185, 187, 188, 189, 191, 193, 196, 197, 200,\n",
      "       201, 202, 203, 204, 206, 207, 209, 210, 212, 213, 214, 217, 219,\n",
      "       220, 221, 222, 223, 224, 225, 226, 227, 228, 231, 232, 234, 236,\n",
      "       238, 239, 242, 243, 244, 245, 248, 249, 250, 252, 253, 260, 261,\n",
      "       262, 263, 265, 266, 267, 270, 271, 273, 277, 278, 280, 281, 282,\n",
      "       283, 284, 285, 286, 287, 288, 292, 294, 295, 296, 298, 301, 302,\n",
      "       304, 305, 308, 313, 314, 317, 320, 321, 324, 326, 331, 332, 333,\n",
      "       335, 336, 338, 339, 340, 342, 343, 344, 348, 349, 350, 351, 352,\n",
      "       353, 354, 355, 360, 361, 363, 364, 365, 370, 371, 372, 373, 377,\n",
      "       378, 379, 382, 384, 385, 386, 388, 390, 391, 392, 395, 397, 398,\n",
      "       400, 401, 403, 405, 406, 407, 408, 410, 411, 413, 414, 418, 420,\n",
      "       421, 422, 424, 425, 428, 429, 430, 433, 434, 438, 439, 441, 442,\n",
      "       444, 445, 447, 449, 450, 451, 452, 453, 454, 455, 456, 459, 460,\n",
      "       461, 462, 463, 464, 465, 466, 467, 468, 470, 471, 475, 476, 477,\n",
      "       478, 480, 481, 482, 484, 487, 488, 489, 490, 491, 492, 493, 494,\n",
      "       495, 497, 499, 500, 505, 507, 508, 509, 510, 511, 512, 514, 515,\n",
      "       517, 519, 521, 522, 524, 525, 527, 528, 529, 531, 532, 536, 538,\n",
      "       543, 544, 545, 547, 548, 549, 550, 551, 552, 553, 555, 557, 560,\n",
      "       561, 562, 563, 565, 566, 568, 569, 570, 572, 574, 575, 579, 582,\n",
      "       583, 584, 586, 587, 588, 589, 590, 592, 594, 595, 597, 598, 599,\n",
      "       601, 602, 603, 604, 605, 606, 607, 611, 613, 614, 616, 619, 620,\n",
      "       621, 622, 623, 624, 625, 626, 628, 629, 630, 631, 632, 633, 636,\n",
      "       637, 639, 640, 643, 645, 646, 647, 648, 650, 652, 655, 656, 658,\n",
      "       659, 660, 661, 662, 663, 664, 665, 666, 667, 668, 671, 672, 673,\n",
      "       674, 675, 676, 679, 681, 682, 683, 684, 685, 686, 687, 688, 690,\n",
      "       692, 693, 694, 695, 696, 698, 699, 701, 703, 704, 705, 707, 709,\n",
      "       711, 712, 713, 714, 715, 718, 719, 721, 722, 723, 724, 725, 728,\n",
      "       731, 732, 733, 734, 735, 737, 738, 739, 740, 741, 743, 744, 745,\n",
      "       746, 748, 749, 751, 752, 753, 755, 756, 757, 758, 760, 761, 762,\n",
      "       764, 766, 768, 769, 770, 771, 773, 775, 776, 778, 782, 783, 784,\n",
      "       785, 787, 788, 789, 790, 791, 793, 794, 795, 798, 800, 802, 803,\n",
      "       804, 805, 806, 808, 810, 811, 812, 814, 815, 817, 818, 819, 821,\n",
      "       822, 824, 825, 826, 827, 828, 831, 832, 833, 834, 836, 837, 838,\n",
      "       839, 840, 841, 843, 844, 845, 846, 847, 848, 850, 851, 857, 859,\n",
      "       860, 861, 864, 867, 868, 869, 870, 872, 873, 876, 877, 878, 881,\n",
      "       883, 884, 886, 889, 890], dtype=int64)}\n",
      "dict_keys(['female', 'male'])\n"
     ]
    }
   ],
   "source": [
    "print(groupObject.indices)\n",
    "print( groupObject.indices.keys() )"
   ]
  },
  {
   "cell_type": "code",
   "execution_count": 199,
   "metadata": {},
   "outputs": [
    {
     "name": "stdout",
     "output_type": "stream",
     "text": [
      "\n",
      "[female]\n",
      "2 (314, 2)\n",
      "sex    female\n",
      "age      0.75\n",
      "dtype: object sex    female\n",
      "age      63.0\n",
      "dtype: object\n",
      "\n",
      "[male]\n",
      "2 (577, 2)\n",
      "sex    male\n",
      "age    0.42\n",
      "dtype: object sex    male\n",
      "age    80.0\n",
      "dtype: object\n"
     ]
    }
   ],
   "source": [
    "# -- get_group() : 그룹화된 그룹들 중에서 특정 그룹 데이터 읽기 DataFrame 반환\n",
    "for key in groupObject.groups.keys():\n",
    "    print(f'\\n[{key}]')\n",
    "    print(groupObject.get_group(key).ndim,groupObject.get_group(key).shape)\n",
    "    print(groupObject.get_group(key).min(),groupObject.get_group(key).max())"
   ]
  },
  {
   "cell_type": "code",
   "execution_count": 200,
   "metadata": {},
   "outputs": [],
   "source": [
    "# resultDF=groupObject.agg(['min','max','mean','median','sum'])\n",
    "# resultDF"
   ]
  },
  {
   "cell_type": "code",
   "execution_count": 201,
   "metadata": {},
   "outputs": [
    {
     "data": {
      "text/plain": [
       "549"
      ]
     },
     "execution_count": 201,
     "metadata": {},
     "output_type": "execute_result"
    }
   ],
   "source": [
    "dataDF.survived.count() - dataDF.survived.sum()"
   ]
  },
  {
   "cell_type": "code",
   "execution_count": 202,
   "metadata": {},
   "outputs": [
    {
     "data": {
      "text/plain": [
       "0       True\n",
       "1      False\n",
       "2      False\n",
       "3      False\n",
       "4       True\n",
       "       ...  \n",
       "886     True\n",
       "887    False\n",
       "888     True\n",
       "889    False\n",
       "890     True\n",
       "Name: survived, Length: 891, dtype: bool"
      ]
     },
     "execution_count": 202,
     "metadata": {},
     "output_type": "execute_result"
    }
   ],
   "source": [
    "~dataDF.survived.astype('bool')"
   ]
  },
  {
   "cell_type": "markdown",
   "metadata": {},
   "source": [
    "- 사용자 정의 함수 지정하기"
   ]
  },
  {
   "cell_type": "code",
   "execution_count": 203,
   "metadata": {},
   "outputs": [],
   "source": [
    "def myfunc(obj):\n",
    "    print(type(obj),obj.head(3))\n",
    "    return obj.max()"
   ]
  },
  {
   "cell_type": "code",
   "execution_count": 204,
   "metadata": {},
   "outputs": [
    {
     "name": "stdout",
     "output_type": "stream",
     "text": [
      "<class 'pandas.core.series.Series'> 0    22.0\n",
      "1    38.0\n",
      "2    26.0\n",
      "Name: age, dtype: float64\n"
     ]
    },
    {
     "data": {
      "text/plain": [
       "80.0"
      ]
     },
     "execution_count": 204,
     "metadata": {},
     "output_type": "execute_result"
    }
   ],
   "source": [
    "myfunc(dataDF['age'])"
   ]
  },
  {
   "cell_type": "code",
   "execution_count": 205,
   "metadata": {},
   "outputs": [
    {
     "name": "stdout",
     "output_type": "stream",
     "text": [
      "<class 'pandas.core.series.Series'> 1    38.0\n",
      "2    26.0\n",
      "3    35.0\n",
      "Name: age, dtype: float64\n",
      "<class 'pandas.core.series.Series'> 0    22.0\n",
      "4    35.0\n",
      "5     NaN\n",
      "Name: age, dtype: float64\n"
     ]
    },
    {
     "data": {
      "text/html": [
       "<div>\n",
       "<style scoped>\n",
       "    .dataframe tbody tr th:only-of-type {\n",
       "        vertical-align: middle;\n",
       "    }\n",
       "\n",
       "    .dataframe tbody tr th {\n",
       "        vertical-align: top;\n",
       "    }\n",
       "\n",
       "    .dataframe thead tr th {\n",
       "        text-align: left;\n",
       "    }\n",
       "\n",
       "    .dataframe thead tr:last-of-type th {\n",
       "        text-align: right;\n",
       "    }\n",
       "</style>\n",
       "<table border=\"1\" class=\"dataframe\">\n",
       "  <thead>\n",
       "    <tr>\n",
       "      <th></th>\n",
       "      <th colspan=\"2\" halign=\"left\">age</th>\n",
       "    </tr>\n",
       "    <tr>\n",
       "      <th></th>\n",
       "      <th>count</th>\n",
       "      <th>myfunc</th>\n",
       "    </tr>\n",
       "    <tr>\n",
       "      <th>sex</th>\n",
       "      <th></th>\n",
       "      <th></th>\n",
       "    </tr>\n",
       "  </thead>\n",
       "  <tbody>\n",
       "    <tr>\n",
       "      <th>female</th>\n",
       "      <td>261</td>\n",
       "      <td>63.0</td>\n",
       "    </tr>\n",
       "    <tr>\n",
       "      <th>male</th>\n",
       "      <td>453</td>\n",
       "      <td>80.0</td>\n",
       "    </tr>\n",
       "  </tbody>\n",
       "</table>\n",
       "</div>"
      ],
      "text/plain": [
       "         age       \n",
       "       count myfunc\n",
       "sex                \n",
       "female   261   63.0\n",
       "male     453   80.0"
      ]
     },
     "execution_count": 205,
     "metadata": {},
     "output_type": "execute_result"
    }
   ],
   "source": [
    "groupObject.agg(['count',myfunc])"
   ]
  },
  {
   "cell_type": "code",
   "execution_count": 206,
   "metadata": {},
   "outputs": [
    {
     "name": "stdout",
     "output_type": "stream",
     "text": [
      "<class 'pandas.core.series.Series'> 1    38.0\n",
      "2    26.0\n",
      "3    35.0\n",
      "Name: age, dtype: float64\n",
      "<class 'pandas.core.series.Series'> 0    22.0\n",
      "4    35.0\n",
      "5     NaN\n",
      "Name: age, dtype: float64\n"
     ]
    },
    {
     "data": {
      "text/html": [
       "<div>\n",
       "<style scoped>\n",
       "    .dataframe tbody tr th:only-of-type {\n",
       "        vertical-align: middle;\n",
       "    }\n",
       "\n",
       "    .dataframe tbody tr th {\n",
       "        vertical-align: top;\n",
       "    }\n",
       "\n",
       "    .dataframe thead tr th {\n",
       "        text-align: left;\n",
       "    }\n",
       "\n",
       "    .dataframe thead tr:last-of-type th {\n",
       "        text-align: right;\n",
       "    }\n",
       "</style>\n",
       "<table border=\"1\" class=\"dataframe\">\n",
       "  <thead>\n",
       "    <tr>\n",
       "      <th></th>\n",
       "      <th colspan=\"3\" halign=\"left\">age</th>\n",
       "    </tr>\n",
       "    <tr>\n",
       "      <th></th>\n",
       "      <th>count</th>\n",
       "      <th>myfunc</th>\n",
       "      <th>&lt;lambda_0&gt;</th>\n",
       "    </tr>\n",
       "    <tr>\n",
       "      <th>sex</th>\n",
       "      <th></th>\n",
       "      <th></th>\n",
       "      <th></th>\n",
       "    </tr>\n",
       "  </thead>\n",
       "  <tbody>\n",
       "    <tr>\n",
       "      <th>female</th>\n",
       "      <td>261</td>\n",
       "      <td>63.0</td>\n",
       "      <td>27.915709</td>\n",
       "    </tr>\n",
       "    <tr>\n",
       "      <th>male</th>\n",
       "      <td>453</td>\n",
       "      <td>80.0</td>\n",
       "      <td>30.726645</td>\n",
       "    </tr>\n",
       "  </tbody>\n",
       "</table>\n",
       "</div>"
      ],
      "text/plain": [
       "         age                  \n",
       "       count myfunc <lambda_0>\n",
       "sex                           \n",
       "female   261   63.0  27.915709\n",
       "male     453   80.0  30.726645"
      ]
     },
     "execution_count": 206,
     "metadata": {},
     "output_type": "execute_result"
    }
   ],
   "source": [
    "groupObject.agg(['count',myfunc,lambda x:x.mean()])"
   ]
  },
  {
   "cell_type": "code",
   "execution_count": null,
   "metadata": {},
   "outputs": [],
   "source": []
  }
 ],
 "metadata": {
  "kernelspec": {
   "display_name": "PY39",
   "language": "python",
   "name": "python3"
  },
  "language_info": {
   "codemirror_mode": {
    "name": "ipython",
    "version": 3
   },
   "file_extension": ".py",
   "mimetype": "text/x-python",
   "name": "python",
   "nbconvert_exporter": "python",
   "pygments_lexer": "ipython3",
   "version": "3.9.19"
  }
 },
 "nbformat": 4,
 "nbformat_minor": 2
}
