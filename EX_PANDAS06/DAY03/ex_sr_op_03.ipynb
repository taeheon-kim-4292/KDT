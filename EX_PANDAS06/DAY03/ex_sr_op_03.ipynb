{
 "cells": [
  {
   "cell_type": "markdown",
   "metadata": {},
   "source": [
    "### [Series 연산 - 3 ]\n",
    "- 원소값이 비어있는 경우\n",
    "\n",
    "- 인덱스가 서로 다른 Series\n"
   ]
  },
  {
   "cell_type": "code",
   "execution_count": 34,
   "metadata": {},
   "outputs": [],
   "source": [
    "# 모듈 준비\n",
    "import pandas as pd\n",
    "import math\n",
    "import numpy as np "
   ]
  },
  {
   "cell_type": "code",
   "execution_count": 35,
   "metadata": {},
   "outputs": [
    {
     "data": {
      "text/plain": [
       "(nan, nan)"
      ]
     },
     "execution_count": 35,
     "metadata": {},
     "output_type": "execute_result"
    }
   ],
   "source": [
    "# 빈칸 즉, 비어있다는 의미를  나타내는 문자 ==> pandas에 없음\n",
    "# 그래서 math 모듈과 numpy 패키지 사용\n",
    "math.nan , np.NaN"
   ]
  },
  {
   "cell_type": "code",
   "execution_count": 36,
   "metadata": {},
   "outputs": [],
   "source": [
    "# 데이터준비\n",
    "merona=[32,700,1200,1500]"
   ]
  },
  {
   "cell_type": "code",
   "execution_count": 37,
   "metadata": {},
   "outputs": [],
   "source": [
    "# [3] 1D List ==> Series 형태 저장\n",
    "sr2=pd.Series(merona)"
   ]
  },
  {
   "cell_type": "code",
   "execution_count": 38,
   "metadata": {},
   "outputs": [
    {
     "name": "stdout",
     "output_type": "stream",
     "text": [
      "0      32\n",
      "1     700\n",
      "2    1200\n",
      "3    1500\n",
      "dtype: int64\n"
     ]
    }
   ],
   "source": [
    "print(sr2,sep='\\n\\n')"
   ]
  },
  {
   "cell_type": "code",
   "execution_count": 39,
   "metadata": {},
   "outputs": [
    {
     "data": {
      "text/plain": [
       "0      37\n",
       "1     705\n",
       "2    1205\n",
       "3    1505\n",
       "dtype: int64"
      ]
     },
     "execution_count": 39,
     "metadata": {},
     "output_type": "execute_result"
    }
   ],
   "source": [
    "# [4] 연산 수행 : Series + 숫자\n",
    "sr2 + 5"
   ]
  },
  {
   "cell_type": "code",
   "execution_count": 40,
   "metadata": {},
   "outputs": [
    {
     "data": {
      "text/plain": [
       "0      37\n",
       "1     705\n",
       "2    1205\n",
       "3    1505\n",
       "dtype: int64"
      ]
     },
     "execution_count": 40,
     "metadata": {},
     "output_type": "execute_result"
    }
   ],
   "source": [
    "# [4-2] 연산 수행 : Series + Series\n",
    "sr2 + 5"
   ]
  },
  {
   "cell_type": "code",
   "execution_count": null,
   "metadata": {},
   "outputs": [],
   "source": [
    "# - 비교 연산\n",
    "sr1 != sr2"
   ]
  },
  {
   "cell_type": "code",
   "execution_count": null,
   "metadata": {},
   "outputs": [],
   "source": [
    "# [5] 인덱스가 다른 Seiries끼리 연산 수행\n",
    "# - sr3 생성 : sr2에서 인덱스 변경 [0,1,2,3] ==>[0,2,3,4]\n",
    "sr2.index[0,2,3,4]\n",
    "sr2"
   ]
  },
  {
   "cell_type": "code",
   "execution_count": 42,
   "metadata": {},
   "outputs": [],
   "source": [
    "# [6] NaN에 대한 연산 수행을 못하는 것 해결 위한 메서드 제공\n",
    "# - fill_value : 빈 칸 즉, NaN에 값을 지정\n",
    "# sr1.add (sr2, fill_value=-1.)"
   ]
  },
  {
   "cell_type": "code",
   "execution_count": 44,
   "metadata": {},
   "outputs": [
    {
     "data": {
      "text/plain": [
       "0      64.0\n",
       "1     700.0\n",
       "2    1900.0\n",
       "3    2700.0\n",
       "4    1500.0\n",
       "dtype: float64"
      ]
     },
     "execution_count": 44,
     "metadata": {},
     "output_type": "execute_result"
    }
   ],
   "source": [
    "# - 인덱스가 다른 Series 연산에서 메서드 사용\n",
    "sr3 = sr2.rename(index={1:2, 2:3, 3:4})\n",
    "sr2.add(sr3, fill_value=0.0)"
   ]
  },
  {
   "cell_type": "code",
   "execution_count": null,
   "metadata": {},
   "outputs": [],
   "source": []
  }
 ],
 "metadata": {
  "kernelspec": {
   "display_name": "PY39",
   "language": "python",
   "name": "python3"
  },
  "language_info": {
   "codemirror_mode": {
    "name": "ipython",
    "version": 3
   },
   "file_extension": ".py",
   "mimetype": "text/x-python",
   "name": "python",
   "nbconvert_exporter": "python",
   "pygments_lexer": "ipython3",
   "version": "3.9.19"
  }
 },
 "nbformat": 4,
 "nbformat_minor": 2
}
