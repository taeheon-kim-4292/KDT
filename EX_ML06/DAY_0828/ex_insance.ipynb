{
 "cells": [
  {
   "cell_type": "markdown",
   "metadata": {},
   "source": [
    "#### 클래스와 인스턴스"
   ]
  },
  {
   "cell_type": "code",
   "execution_count": 6,
   "metadata": {},
   "outputs": [
    {
     "data": {
      "text/plain": [
       "[[37],\n",
       " [3],\n",
       " [28],\n",
       " [31],\n",
       " [37],\n",
       " [1],\n",
       " [14],\n",
       " [30],\n",
       " [32],\n",
       " [18],\n",
       " [42],\n",
       " [11],\n",
       " [3],\n",
       " [34],\n",
       " [32],\n",
       " [21],\n",
       " [5],\n",
       " [16],\n",
       " [48],\n",
       " [24],\n",
       " [3],\n",
       " [27],\n",
       " [9],\n",
       " [39],\n",
       " [23],\n",
       " [25],\n",
       " [27],\n",
       " [19],\n",
       " [44],\n",
       " [17]]"
      ]
     },
     "execution_count": 6,
     "metadata": {},
     "output_type": "execute_result"
    }
   ],
   "source": [
    "# 임시 데이터 생성\n",
    "import random \n",
    "random.seed(10)\n",
    "data = []\n",
    "for i in range(30):\n",
    "    data.append([random.randint(1,50)])\n",
    "data"
   ]
  },
  {
   "cell_type": "code",
   "execution_count": 7,
   "metadata": {},
   "outputs": [
    {
     "data": {
      "text/plain": [
       "([1], [48])"
      ]
     },
     "execution_count": 7,
     "metadata": {},
     "output_type": "execute_result"
    }
   ],
   "source": [
    "# 스케일러에서 fit()시에 진행\n",
    "min(data), max(data)[0]"
   ]
  },
  {
   "cell_type": "code",
   "execution_count": 8,
   "metadata": {},
   "outputs": [],
   "source": [
    "### 스케일러에서 transform()시에 0~1사이 값으로 전부 변환\n",
    "result=[d[0] / max(data)[0] for d in data]"
   ]
  },
  {
   "cell_type": "code",
   "execution_count": 9,
   "metadata": {},
   "outputs": [
    {
     "data": {
      "text/plain": [
       "(0.020833333333333332, 1.0)"
      ]
     },
     "execution_count": 9,
     "metadata": {},
     "output_type": "execute_result"
    }
   ],
   "source": [
    "min(result), max(result)"
   ]
  },
  {
   "cell_type": "code",
   "execution_count": null,
   "metadata": {},
   "outputs": [],
   "source": []
  }
 ],
 "metadata": {
  "kernelspec": {
   "display_name": "ML_38",
   "language": "python",
   "name": "python3"
  },
  "language_info": {
   "codemirror_mode": {
    "name": "ipython",
    "version": 3
   },
   "file_extension": ".py",
   "mimetype": "text/x-python",
   "name": "python",
   "nbconvert_exporter": "python",
   "pygments_lexer": "ipython3",
   "version": "3.8.19"
  }
 },
 "nbformat": 4,
 "nbformat_minor": 2
}
